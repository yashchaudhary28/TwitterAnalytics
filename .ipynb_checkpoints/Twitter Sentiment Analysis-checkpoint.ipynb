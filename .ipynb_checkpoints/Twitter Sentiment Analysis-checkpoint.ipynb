{
 "cells": [
  {
   "cell_type": "markdown",
   "metadata": {},
   "source": [
    "# Sentiment Analysis of Real Time Twitter Data"
   ]
  },
  {
   "cell_type": "markdown",
   "metadata": {},
   "source": [
    "#### After saving the data in the s3 bucket we will retrive the data and perform exploratory data analysis and sentiment analysis on the real time twitter data."
   ]
  },
  {
   "cell_type": "code",
   "execution_count": 1,
   "metadata": {
    "ExecuteTime": {
     "end_time": "2020-09-26T18:28:52.620742Z",
     "start_time": "2020-09-26T18:28:51.386880Z"
    }
   },
   "outputs": [],
   "source": [
    "#Importing required libraries\n",
    "import os\n",
    "import tweepy as tw\n",
    "import pandas as pd\n",
    "import matplotlib.pyplot as plt\n",
    "import seaborn as sns\n",
    "import itertools\n",
    "import collections\n",
    "import re\n",
    "import networkx as nx\n",
    "import boto3         \n",
    "import botocore\n",
    "import pickle\n",
    "import string\n",
    "sns.set(font_scale=1.5)\n",
    "sns.set_style(\"whitegrid\")"
   ]
  },
  {
   "cell_type": "code",
   "execution_count": 2,
   "metadata": {
    "ExecuteTime": {
     "end_time": "2020-09-26T18:28:53.248962Z",
     "start_time": "2020-09-26T18:28:52.621640Z"
    }
   },
   "outputs": [],
   "source": [
    "import nltk\n",
    "from nltk.corpus import wordnet\n",
    "from nltk.corpus import stopwords\n",
    "from nltk.stem import WordNetLemmatizer\n",
    "from nltk.stem.porter import PorterStemmer"
   ]
  },
  {
   "cell_type": "markdown",
   "metadata": {},
   "source": [
    "#### Importing data from aws s3 bucket"
   ]
  },
  {
   "cell_type": "code",
   "execution_count": 3,
   "metadata": {
    "ExecuteTime": {
     "end_time": "2020-09-26T18:28:53.312887Z",
     "start_time": "2020-09-26T18:28:53.249959Z"
    }
   },
   "outputs": [],
   "source": [
    "# Create an S3 client\n",
    "S3 = boto3.client('s3')\n",
    "BUCKET_NAME = 'twitter-analytics-bot'"
   ]
  },
  {
   "cell_type": "code",
   "execution_count": 4,
   "metadata": {
    "ExecuteTime": {
     "end_time": "2020-09-26T18:28:54.813279Z",
     "start_time": "2020-09-26T18:28:53.313794Z"
    }
   },
   "outputs": [],
   "source": [
    "#Retrieving the object stored in s3 bucket\n",
    "#Read the object stored in key 'myList001'\n",
    "object = S3.get_object(Bucket=BUCKET_NAME,Key='myList001')\n",
    "serializedObject = object['Body'].read()\n",
    "#Deserialize the retrieved object\n",
    "myList = pickle.loads(serializedObject)"
   ]
  },
  {
   "cell_type": "code",
   "execution_count": 5,
   "metadata": {
    "ExecuteTime": {
     "end_time": "2020-09-26T18:28:54.819264Z",
     "start_time": "2020-09-26T18:28:54.814278Z"
    }
   },
   "outputs": [
    {
     "data": {
      "text/plain": [
       "5616"
      ]
     },
     "execution_count": 5,
     "metadata": {},
     "output_type": "execute_result"
    }
   ],
   "source": [
    "len(myList)"
   ]
  },
  {
   "cell_type": "code",
   "execution_count": 6,
   "metadata": {
    "ExecuteTime": {
     "end_time": "2020-09-26T18:28:54.829238Z",
     "start_time": "2020-09-26T18:28:54.820261Z"
    }
   },
   "outputs": [],
   "source": [
    "all_tweets = myList"
   ]
  },
  {
   "cell_type": "code",
   "execution_count": 7,
   "metadata": {
    "ExecuteTime": {
     "end_time": "2020-09-26T18:28:54.864149Z",
     "start_time": "2020-09-26T18:28:54.831231Z"
    }
   },
   "outputs": [],
   "source": [
    "with open('tweet.txt', 'w') as f:\n",
    "    for item in all_tweets:\n",
    "        f.write(\"    %s\\n\" % item.encode('utf-8'))"
   ]
  },
  {
   "cell_type": "markdown",
   "metadata": {},
   "source": [
    "## Text Preprocessing\n",
    "#### There are some steps required to make a tweet ready for sentiment analysis.\n",
    "1.) Remove unicode strings and noise.<br>\n",
    "2.) Replace URL, user mention and hashtags. <br>\n",
    "3.) Remove Numbers. <br>\n",
    "4.) Replace Repetitions of Punctuation. <br>\n",
    "5.) Remove Contractions. <br>\n",
    "6.) Handling Capitalized Words. <br>\n",
    "7.) Lowercase. <br>\n",
    "8.) Lemmatizing. <br>\n",
    "9.) Stemming. <br>"
   ]
  },
  {
   "cell_type": "code",
   "execution_count": null,
   "metadata": {},
   "outputs": [],
   "source": []
  },
  {
   "cell_type": "code",
   "execution_count": 8,
   "metadata": {
    "ExecuteTime": {
     "end_time": "2020-09-26T18:28:54.874118Z",
     "start_time": "2020-09-26T18:28:54.868133Z"
    }
   },
   "outputs": [],
   "source": [
    "def removeUnicode(text):\n",
    "    \"\"\" Removes unicode strings like \"\\u002c\" and \"x96\" \"\"\"\n",
    "    text = re.sub(r'(\\\\u[0-9A-Fa-f]+)',r'', text)       \n",
    "    text = re.sub(r'[^\\x00-\\x7f]',r'',text)\n",
    "    return text\n",
    "\n",
    "def replaceURL(text):\n",
    "    \"\"\" Replaces url address with \"url\" \"\"\"\n",
    "    text = re.sub('((www\\.[^\\s]+)|(https?://[^\\s]+))','url',text)\n",
    "    text = re.sub(r'#([^\\s]+)', r'\\1', text)                       \n",
    "    return text\n",
    "\n",
    "def replaceAtUser(text):\n",
    "    \"\"\" Replaces \"@user\" with \"atUser\" \"\"\"\n",
    "    text = re.sub('@[^\\s]+','atUser',text)\n",
    "    return text\n",
    "\n",
    "def removeHashtagInFrontOfWord(text):\n",
    "    \"\"\" Removes hastag in front of a word \"\"\"\n",
    "    text = re.sub(r'#([^\\s]+)', r'\\1', text)\n",
    "    return text\n",
    "\n",
    "def removeNumbers(text):\n",
    "    \"\"\" Removes integers \"\"\"\n",
    "    text = ''.join([i for i in text if not i.isdigit()])         \n",
    "    return text"
   ]
  },
  {
   "cell_type": "code",
   "execution_count": 9,
   "metadata": {
    "ExecuteTime": {
     "end_time": "2020-09-26T18:28:54.884094Z",
     "start_time": "2020-09-26T18:28:54.876112Z"
    }
   },
   "outputs": [],
   "source": [
    "def replaceMultiExclamationMark(text):\n",
    "    \"\"\" Replaces repetitions of exlamation marks \"\"\"\n",
    "    text = re.sub(r\"(\\!)\\1+\", ' multiExclamation ', text)\n",
    "    return text\n",
    "\n",
    "def replaceMultiQuestionMark(text):\n",
    "    \"\"\" Replaces repetitions of question marks \"\"\"\n",
    "    text = re.sub(r\"(\\?)\\1+\", ' multiQuestion ', text)\n",
    "    return text\n",
    "\n",
    "def replaceMultiStopMark(text):\n",
    "    \"\"\" Replaces repetitions of stop marks \"\"\"\n",
    "    text = re.sub(r\"(\\.)\\1+\", ' multiStop ', text)\n",
    "    return text\n",
    "\n",
    "def countMultiExclamationMarks(text):\n",
    "    \"\"\" Replaces repetitions of exlamation marks \"\"\"\n",
    "    return len(re.findall(r\"(\\!)\\1+\", text))\n",
    "\n",
    "def countMultiQuestionMarks(text):\n",
    "    \"\"\" Count repetitions of question marks \"\"\"\n",
    "    return len(re.findall(r\"(\\?)\\1+\", text))\n",
    "\n",
    "def countMultiStopMarks(text):\n",
    "    \"\"\" Count repetitions of stop marks \"\"\"\n",
    "    return len(re.findall(r\"(\\.)\\1+\", text))\n",
    "\n",
    "def countAllCaps(text):\n",
    "    \"\"\" Input: a text, Output: how many words are all caps \"\"\"\n",
    "    return len(re.findall(\"[A-Z0-9]{3,}\", text))"
   ]
  },
  {
   "cell_type": "code",
   "execution_count": 10,
   "metadata": {
    "ExecuteTime": {
     "end_time": "2020-09-26T18:28:54.895062Z",
     "start_time": "2020-09-26T18:28:54.886086Z"
    }
   },
   "outputs": [],
   "source": [
    "\"\"\" Replaces contractions from a string to their equivalents \"\"\"\n",
    "contraction_patterns = [ (r'won\\'t', 'will not'), (r'can\\'t', 'cannot'), (r'i\\'m', 'i am'), (r'ain\\'t', 'is not'), (r'(\\w+)\\'ll', '\\g<1> will'), (r'(\\w+)n\\'t', '\\g<1> not'),\n",
    "                         (r'(\\w+)\\'ve', '\\g<1> have'), (r'(\\w+)\\'s', '\\g<1> is'), (r'(\\w+)\\'re', '\\g<1> are'), (r'(\\w+)\\'d', '\\g<1> would'), (r'&', 'and'), (r'dammit', 'damn it'), (r'dont', 'do not'), (r'wont', 'will not') ]\n",
    "def replaceContraction(text):\n",
    "    patterns = [(re.compile(regex), repl) for (regex, repl) in contraction_patterns]\n",
    "    for (pattern, repl) in patterns:\n",
    "        (text, count) = re.subn(pattern, repl, text)\n",
    "    return text\n",
    "\n",
    "def addCapTag(word):\n",
    "    \"\"\" Finds a word with at least 3 characters capitalized and adds the tag ALL_CAPS_ \"\"\"\n",
    "    if(len(re.findall(\"[A-Z]{3,}\", word))):\n",
    "        word = word.replace('\\\\', '' )\n",
    "        transformed = re.sub(\"[A-Z]{3,}\", \"ALL_CAPS_\"+word, word)\n",
    "        return transformed\n",
    "    else:\n",
    "        return word\n",
    "    \n",
    "def removeEmoticons(text):\n",
    "    \"\"\" Removes emoticons from text \"\"\"\n",
    "    text = re.sub(':\\)|;\\)|:-\\)|\\(-:|:-D|=D|:P|xD|X-p|\\^\\^|:-*|\\^\\.\\^|\\^\\-\\^|\\^\\_\\^|\\,-\\)|\\)-:|:\\'\\(|:\\(|:-\\(|:\\S|T\\.T|\\.\\_\\.|:<|:-\\S|:-<|\\*\\-\\*|:O|=O|=\\-O|O\\.o|XO|O\\_O|:-\\@|=/|:/|X\\-\\(|>\\.<|>=\\(|D:', '', text)\n",
    "    return text\n",
    "\n",
    "def countEmoticons(text):\n",
    "    \"\"\" Input: a text, Output: how many emoticons \"\"\"\n",
    "    return len(re.findall(':\\)|;\\)|:-\\)|\\(-:|:-D|=D|:P|xD|X-p|\\^\\^|:-*|\\^\\.\\^|\\^\\-\\^|\\^\\_\\^|\\,-\\)|\\)-:|:\\'\\(|:\\(|:-\\(|:\\S|T\\.T|\\.\\_\\.|:<|:-\\S|:-<|\\*\\-\\*|:O|=O|=\\-O|O\\.o|XO|O\\_O|:-\\@|=/|:/|X\\-\\(|>\\.<|>=\\(|D:', text))"
   ]
  },
  {
   "cell_type": "code",
   "execution_count": 11,
   "metadata": {
    "ExecuteTime": {
     "end_time": "2020-09-26T18:28:54.905034Z",
     "start_time": "2020-09-26T18:28:54.896059Z"
    }
   },
   "outputs": [],
   "source": [
    "finalTokens = [] # all tokens\n",
    "stoplist = stopwords.words('english')\n",
    "my_stopwords = \"multiexclamation multiquestion multistop url atuser st rd nd th am pm\" # my extra stopwords\n",
    "stoplist = stoplist + my_stopwords.split()"
   ]
  },
  {
   "cell_type": "code",
   "execution_count": 12,
   "metadata": {
    "ExecuteTime": {
     "end_time": "2020-09-26T18:28:54.914011Z",
     "start_time": "2020-09-26T18:28:54.906031Z"
    }
   },
   "outputs": [],
   "source": [
    "lemmatizer = WordNetLemmatizer() # set lemmatizer\n",
    "stemmer = PorterStemmer() # set stemmer"
   ]
  },
  {
   "cell_type": "code",
   "execution_count": 13,
   "metadata": {
    "ExecuteTime": {
     "end_time": "2020-09-26T18:28:54.923984Z",
     "start_time": "2020-09-26T18:28:54.915008Z"
    }
   },
   "outputs": [],
   "source": [
    "def tokenize(text, wordCountBefore):\n",
    "    totalAdjectives = 0\n",
    "    totalAdverbs = 0\n",
    "    totalVerbs = 0\n",
    "    onlyOneSentenceTokens = [] # tokens of one sentence each time\n",
    "\n",
    "    tokens = nltk.word_tokenize(text)\n",
    "        \n",
    "    translator = str.maketrans('', '', string.punctuation)\n",
    "    text = text.translate(translator) # Technique: remove punctuation\n",
    "\n",
    "    tokens = nltk.word_tokenize(text) # it takes a text as an input and provides a list of every token in it\n",
    "    \n",
    "    for w in tokens:\n",
    "\n",
    "        if (w not in stoplist): # Technique: remove stopwords\n",
    "            final_word = addCapTag(w) # Technique: Finds a word with at least 3 characters capitalized and adds the tag ALL_CAPS_\n",
    "            final_word = final_word.lower() # Technique: lowercases all characters\n",
    "            final_word = lemmatizer.lemmatize(final_word) # Technique: lemmatizes words\n",
    "            final_word = stemmer.stem(final_word) # Technique: apply stemming to words\n",
    "            \n",
    "            onlyOneSentenceTokens.append(final_word)           \n",
    "            finalTokens.append(final_word)\n",
    "            \n",
    "    onlyOneSentence = \" \".join(onlyOneSentenceTokens) # form again the sentence from the list of tokens\n",
    "    #\"\"\" Write the preprocessed text to file \"\"\"\n",
    "    with open(\"result.txt\", \"a\") as result:\n",
    "        result.write(\"\\t\"+onlyOneSentence+\"\\n\")\n",
    "    return finalTokens"
   ]
  },
  {
   "cell_type": "code",
   "execution_count": 14,
   "metadata": {
    "ExecuteTime": {
     "end_time": "2020-09-26T18:28:54.938944Z",
     "start_time": "2020-09-26T18:28:54.925980Z"
    }
   },
   "outputs": [],
   "source": [
    "f = open(\"tweet.txt\",\"r\", encoding=\"utf8\", errors='replace').read()"
   ]
  },
  {
   "cell_type": "code",
   "execution_count": 15,
   "metadata": {
    "ExecuteTime": {
     "end_time": "2020-09-26T18:28:54.942934Z",
     "start_time": "2020-09-26T18:28:54.939942Z"
    }
   },
   "outputs": [],
   "source": [
    "totalSentences = 0\n",
    "totalEmoticons = 0\n",
    "totalElongated = 0\n",
    "totalMultiExclamationMarks = 0\n",
    "totalMultiQuestionMarks = 0\n",
    "totalMultiStopMarks = 0\n",
    "totalAllCaps = 0"
   ]
  },
  {
   "cell_type": "code",
   "execution_count": 16,
   "metadata": {
    "ExecuteTime": {
     "end_time": "2020-09-26T18:29:01.175373Z",
     "start_time": "2020-09-26T18:28:54.943931Z"
    }
   },
   "outputs": [],
   "source": [
    "for line in f.split('\\n'):\n",
    "    totalSentences += 1\n",
    "    feat = []\n",
    "\n",
    "    text = removeUnicode(line) # Technique 1\n",
    "    wordCountBefore = len(re.findall(r'\\w+', text)) # word count of one sentence before preprocess    \n",
    "    \n",
    "    text = replaceURL(text) # Technique 2\n",
    "    text = replaceAtUser(text) # Technique 2\n",
    "    text = removeHashtagInFrontOfWord(text) # Technique 2\n",
    "\n",
    "    text = replaceContraction(text) # Technique 5: replaces contractions to their equivalents\n",
    "    text = removeNumbers(text) # Technique 3: remove integers from text\n",
    "\n",
    "    emoticons = countEmoticons(text) # how many emoticons in this sentence\n",
    "    totalEmoticons += emoticons\n",
    "    \n",
    "    text = removeEmoticons(text) # removes emoticons from text\n",
    "\n",
    "    \n",
    "    totalAllCaps += countAllCaps(text)\n",
    "\n",
    "    totalMultiExclamationMarks += countMultiExclamationMarks(text) # how many repetitions of exlamation marks in this sentence\n",
    "    totalMultiQuestionMarks += countMultiQuestionMarks(text) # how many repetitions of question marks in this sentence\n",
    "    totalMultiStopMarks += countMultiStopMarks(text) # how many repetitions of stop marks in this sentence\n",
    "    \n",
    "    text = replaceMultiExclamationMark(text) # Technique : replaces repetitions of exlamation marks with the tag \"multiExclamation\"\n",
    "    text = replaceMultiQuestionMark(text) # Technique : replaces repetitions of question marks with the tag \"multiQuestion\"\n",
    "    text = replaceMultiStopMark(text) # Technique : replaces repetitions of stop marks with the tag \"multiStop\"\n",
    "    \n",
    "    tokens = tokenize(text, wordCountBefore)  "
   ]
  },
  {
   "cell_type": "code",
   "execution_count": 17,
   "metadata": {
    "ExecuteTime": {
     "end_time": "2020-09-26T18:29:01.312901Z",
     "start_time": "2020-09-26T18:29:01.176256Z"
    }
   },
   "outputs": [
    {
     "name": "stdout",
     "output_type": "stream",
     "text": [
      "Total sentences:  5617 \n",
      "\n",
      "Total Words before preprocess:  140036\n",
      "Total Distinct Tokens before preprocess:  17477\n",
      "Average word/sentence before preprocess:  24.930745949795263 \n",
      "\n",
      "Total Words after preprocess:  60768\n",
      "Total Distinct Tokens after preprocess:  10319\n",
      "Average word/sentence after preprocess:  10.818586434039522 \n",
      "\n"
     ]
    }
   ],
   "source": [
    "print(\"Total sentences: \",totalSentences,\"\\n\")\n",
    "print(\"Total Words before preprocess: \",len(re.findall(r'\\w+', f)))\n",
    "print(\"Total Distinct Tokens before preprocess: \",len(set(re.findall(r'\\w+', f))))\n",
    "print(\"Average word/sentence before preprocess: \",len(re.findall(r'\\w+', f))/totalSentences,\"\\n\")\n",
    "print(\"Total Words after preprocess: \",len(tokens))\n",
    "print(\"Total Distinct Tokens after preprocess: \",len(set(tokens)))\n",
    "print(\"Average word/sentence after preprocess: \",len(tokens)/totalSentences,\"\\n\")"
   ]
  },
  {
   "cell_type": "code",
   "execution_count": 18,
   "metadata": {
    "ExecuteTime": {
     "end_time": "2020-09-26T18:29:01.317876Z",
     "start_time": "2020-09-26T18:29:01.313888Z"
    }
   },
   "outputs": [
    {
     "name": "stdout",
     "output_type": "stream",
     "text": [
      "Total emoticons:  816 \n",
      "\n",
      "Total multi exclamation marks:  147\n",
      "Total multi question marks:  27\n",
      "Total multi stop marks:  325 \n",
      "\n",
      "Total all capitalized words:  1941 \n",
      "\n"
     ]
    }
   ],
   "source": [
    "print(\"Total emoticons: \",totalEmoticons,\"\\n\")\n",
    "print(\"Total multi exclamation marks: \",totalMultiExclamationMarks)\n",
    "print(\"Total multi question marks: \",totalMultiQuestionMarks)\n",
    "print(\"Total multi stop marks: \",totalMultiStopMarks,\"\\n\")\n",
    "print(\"Total all capitalized words: \",totalAllCaps,\"\\n\")"
   ]
  },
  {
   "cell_type": "code",
   "execution_count": 19,
   "metadata": {
    "ExecuteTime": {
     "end_time": "2020-09-26T18:29:03.050241Z",
     "start_time": "2020-09-26T18:29:01.318875Z"
    }
   },
   "outputs": [
    {
     "name": "stdout",
     "output_type": "stream",
     "text": [
      "Most common words \n",
      "Word\tCount\n",
      "facebook \t 3125\n",
      "atus \t 1159\n",
      "bfacebook \t 784\n",
      "twitter \t 440\n",
      "instagram \t 434\n",
      "batus \t 433\n",
      "u \t 405\n",
      "i \t 384\n",
      "andamp \t 334\n",
      "multistop \t 325\n",
      "page \t 313\n",
      "new \t 307\n",
      "medium \t 301\n",
      "socialmedia \t 285\n",
      "social \t 284\n",
      "like \t 281\n",
      "futur \t 269\n",
      "ad \t 249\n",
      "get \t 234\n",
      "account \t 226\n",
      "share \t 207\n",
      "market \t 200\n",
      "post \t 199\n",
      "youtub \t 197\n",
      "use \t 196\n",
      "busi \t 189\n",
      "the \t 184\n",
      "check \t 175\n",
      "follow \t 175\n",
      "bi \t 165\n",
      "make \t 164\n",
      "group \t 161\n",
      "need \t 158\n",
      "video \t 153\n",
      "time \t 151\n",
      "via \t 150\n",
      "multiexclam \t 147\n",
      "say \t 142\n",
      "data \t 142\n",
      "remov \t 140\n",
      "live \t 138\n",
      "pinterest \t 136\n",
      "bthe \t 135\n",
      "b \t 133\n",
      "facebookxexxa \t 133\n",
      "one \t 132\n",
      "peopl \t 131\n",
      "updat \t 128\n",
      "linkedin \t 125\n",
      "come \t 120\n",
      "news \t 120\n",
      "to \t 119\n",
      "xexxa \t 119\n",
      "europ \t 118\n",
      "elect \t 116\n",
      "you \t 114\n",
      "bhow \t 112\n",
      "pleas \t 112\n",
      "look \t 112\n",
      "manag \t 111\n",
      "design \t 111\n",
      "text \t 109\n",
      "go \t 107\n",
      "know \t 106\n",
      "ban \t 105\n",
      "help \t 102\n",
      "want \t 102\n",
      "websit \t 100\n",
      "join \t 100\n",
      "content \t 97\n",
      "for \t 95\n",
      "it \t 95\n",
      "we \t 93\n",
      "platform \t 93\n",
      "on \t 93\n",
      "nurl \t 91\n",
      "see \t 90\n",
      "money \t 90\n",
      "first \t 90\n",
      "fb \t 89\n",
      "work \t 89\n",
      "tool \t 88\n",
      "imag \t 88\n",
      "start \t 87\n",
      "network \t 87\n",
      "day \t 87\n",
      "take \t 85\n",
      "promot \t 85\n",
      "fake \t 84\n",
      "top \t 83\n",
      "webtalk \t 83\n",
      "bcheck \t 82\n",
      "link \t 81\n",
      "back \t 80\n",
      "restrict \t 78\n",
      "right \t 78\n",
      "twitch \t 78\n",
      "a \t 76\n",
      "good \t 75\n",
      "your \t 74\n"
     ]
    },
    {
     "data": {
      "image/png": "[encoded data removed]",
      "text/plain": [
       "<Figure size 432x288 with 1 Axes>"
      ]
     },
     "metadata": {},
     "output_type": "display_data"
    },
    {
     "data": {
      "text/plain": [
       "<AxesSubplot:xlabel='Samples', ylabel='Counts'>"
      ]
     },
     "execution_count": 19,
     "metadata": {},
     "output_type": "execute_result"
    }
   ],
   "source": [
    "commonWords = nltk.FreqDist(tokens)\n",
    "print(\"Most common words \")\n",
    "print(\"Word\\tCount\")\n",
    "for (word, count) in commonWords.most_common(100): # most common words across all texts\n",
    "    print(word,\"\\t\",count)\n",
    "\n",
    "commonWords.plot(100, cumulative=False)"
   ]
  },
  {
   "cell_type": "code",
   "execution_count": 20,
   "metadata": {
    "ExecuteTime": {
     "end_time": "2020-09-26T18:29:03.053240Z",
     "start_time": "2020-09-26T18:29:03.051240Z"
    }
   },
   "outputs": [],
   "source": [
    "# #preprocessing if using list instead of a text file.\n",
    "# totalAllCaps = 0\n",
    "\n",
    "# text = [removeUnicode(tweet) for tweet in all_tweets]\n",
    "\n",
    "# text = [replaceURL(tweet) for tweet in text]\n",
    "\n",
    "# text = [replaceAtUser(tweet) for tweet in text]\n",
    "\n",
    "# text = [removeHashtagInFrontOfWord(tweet) for tweet in text]\n",
    "\n",
    "# text = [replaceContraction(tweet) for tweet in text]\n",
    "\n",
    "# text = [removeNumbers(tweet) for tweet in text]\n",
    "\n",
    "# text = [replaceMultiExclamationMark(tweet) for tweet in text]\n",
    "\n",
    "# text = [replaceMultiQuestionMark(tweet) for tweet in text]\n",
    "\n",
    "# text = [replaceMultiStopMark(tweet) for tweet in text]\n",
    "\n",
    "# tokens = [tokenize(tweet) for tweet in text]"
   ]
  },
  {
   "cell_type": "code",
   "execution_count": 21,
   "metadata": {
    "ExecuteTime": {
     "end_time": "2020-09-26T18:29:03.080161Z",
     "start_time": "2020-09-26T18:29:03.055229Z"
    }
   },
   "outputs": [
    {
     "data": {
      "text/plain": [
       "[('facebook', 3125),\n",
       " ('atus', 1159),\n",
       " ('bfacebook', 784),\n",
       " ('twitter', 440),\n",
       " ('instagram', 434),\n",
       " ('batus', 433),\n",
       " ('u', 405),\n",
       " ('i', 384),\n",
       " ('andamp', 334),\n",
       " ('multistop', 325),\n",
       " ('page', 313),\n",
       " ('new', 307),\n",
       " ('medium', 301),\n",
       " ('socialmedia', 285),\n",
       " ('social', 284)]"
      ]
     },
     "execution_count": 21,
     "metadata": {},
     "output_type": "execute_result"
    }
   ],
   "source": [
    "# Create counter\n",
    "counts_no_urls = collections.Counter(tokens)\n",
    "\n",
    "counts_no_urls.most_common(15)"
   ]
  },
  {
   "cell_type": "code",
   "execution_count": 22,
   "metadata": {
    "ExecuteTime": {
     "end_time": "2020-09-26T18:29:03.101105Z",
     "start_time": "2020-09-26T18:29:03.082156Z"
    }
   },
   "outputs": [
    {
     "data": {
      "text/html": [
       "<div>\n",
       "<style scoped>\n",
       "    .dataframe tbody tr th:only-of-type {\n",
       "        vertical-align: middle;\n",
       "    }\n",
       "\n",
       "    .dataframe tbody tr th {\n",
       "        vertical-align: top;\n",
       "    }\n",
       "\n",
       "    .dataframe thead th {\n",
       "        text-align: right;\n",
       "    }\n",
       "</style>\n",
       "<table border=\"1\" class=\"dataframe\">\n",
       "  <thead>\n",
       "    <tr style=\"text-align: right;\">\n",
       "      <th></th>\n",
       "      <th>words</th>\n",
       "      <th>count</th>\n",
       "    </tr>\n",
       "  </thead>\n",
       "  <tbody>\n",
       "    <tr>\n",
       "      <th>0</th>\n",
       "      <td>facebook</td>\n",
       "      <td>3125</td>\n",
       "    </tr>\n",
       "    <tr>\n",
       "      <th>1</th>\n",
       "      <td>atus</td>\n",
       "      <td>1159</td>\n",
       "    </tr>\n",
       "    <tr>\n",
       "      <th>2</th>\n",
       "      <td>bfacebook</td>\n",
       "      <td>784</td>\n",
       "    </tr>\n",
       "    <tr>\n",
       "      <th>3</th>\n",
       "      <td>twitter</td>\n",
       "      <td>440</td>\n",
       "    </tr>\n",
       "    <tr>\n",
       "      <th>4</th>\n",
       "      <td>instagram</td>\n",
       "      <td>434</td>\n",
       "    </tr>\n",
       "  </tbody>\n",
       "</table>\n",
       "</div>"
      ],
      "text/plain": [
       "       words  count\n",
       "0   facebook   3125\n",
       "1       atus   1159\n",
       "2  bfacebook    784\n",
       "3    twitter    440\n",
       "4  instagram    434"
      ]
     },
     "execution_count": 22,
     "metadata": {},
     "output_type": "execute_result"
    }
   ],
   "source": [
    "clean_tweets_no_urls = pd.DataFrame(counts_no_urls.most_common(15),\n",
    "                             columns=['words', 'count'])\n",
    "\n",
    "clean_tweets_no_urls.head()"
   ]
  },
  {
   "cell_type": "code",
   "execution_count": 23,
   "metadata": {
    "ExecuteTime": {
     "end_time": "2020-09-26T18:29:03.288604Z",
     "start_time": "2020-09-26T18:29:03.103107Z"
    }
   },
   "outputs": [
    {
     "data": {
      "image/png": "[encoded data removed]",
      "text/plain": [
       "<Figure size 576x576 with 1 Axes>"
      ]
     },
     "metadata": {},
     "output_type": "display_data"
    }
   ],
   "source": [
    "fig, ax = plt.subplots(figsize=(8, 8))\n",
    "\n",
    "# Plot horizontal bar graph\n",
    "clean_tweets_no_urls.sort_values(by='count').plot.barh(x='words',\n",
    "                      y='count',\n",
    "                      ax=ax,\n",
    "                      color=\"purple\")\n",
    "\n",
    "ax.set_title(\"Common Words Found in Tweets (Including All Words)\")\n",
    "\n",
    "plt.show()\n"
   ]
  },
  {
   "cell_type": "code",
   "execution_count": 24,
   "metadata": {
    "ExecuteTime": {
     "end_time": "2020-09-26T18:29:03.292594Z",
     "start_time": "2020-09-26T18:29:03.289601Z"
    }
   },
   "outputs": [],
   "source": [
    "collection_words = ['facebook', 'fb', 'bfacebook']"
   ]
  },
  {
   "cell_type": "code",
   "execution_count": 25,
   "metadata": {
    "ExecuteTime": {
     "end_time": "2020-09-26T18:29:03.309551Z",
     "start_time": "2020-09-26T18:29:03.293591Z"
    }
   },
   "outputs": [],
   "source": [
    "final_tokens = []\n",
    "for word in tokens:\n",
    "    if word not in collection_words:\n",
    "        final_tokens.append(word)"
   ]
  },
  {
   "cell_type": "code",
   "execution_count": 26,
   "metadata": {
    "ExecuteTime": {
     "end_time": "2020-09-26T18:29:03.327500Z",
     "start_time": "2020-09-26T18:29:03.311551Z"
    }
   },
   "outputs": [
    {
     "data": {
      "text/plain": [
       "[('atus', 1159),\n",
       " ('twitter', 440),\n",
       " ('instagram', 434),\n",
       " ('batus', 433),\n",
       " ('u', 405),\n",
       " ('i', 384),\n",
       " ('andamp', 334),\n",
       " ('multistop', 325),\n",
       " ('page', 313),\n",
       " ('new', 307),\n",
       " ('medium', 301),\n",
       " ('socialmedia', 285),\n",
       " ('social', 284),\n",
       " ('like', 281),\n",
       " ('futur', 269)]"
      ]
     },
     "execution_count": 26,
     "metadata": {},
     "output_type": "execute_result"
    }
   ],
   "source": [
    "# Create counter of words in clean tweets\n",
    "counts_nsw_nc = collections.Counter(final_tokens)\n",
    "\n",
    "counts_nsw_nc.most_common(15)"
   ]
  },
  {
   "cell_type": "code",
   "execution_count": 27,
   "metadata": {
    "ExecuteTime": {
     "end_time": "2020-09-26T18:29:03.336475Z",
     "start_time": "2020-09-26T18:29:03.328496Z"
    }
   },
   "outputs": [
    {
     "data": {
      "text/plain": [
       "10316"
      ]
     },
     "execution_count": 27,
     "metadata": {},
     "output_type": "execute_result"
    }
   ],
   "source": [
    "len(counts_nsw_nc)"
   ]
  },
  {
   "cell_type": "code",
   "execution_count": 28,
   "metadata": {
    "ExecuteTime": {
     "end_time": "2020-09-26T18:29:03.347446Z",
     "start_time": "2020-09-26T18:29:03.337474Z"
    }
   },
   "outputs": [
    {
     "data": {
      "text/html": [
       "<div>\n",
       "<style scoped>\n",
       "    .dataframe tbody tr th:only-of-type {\n",
       "        vertical-align: middle;\n",
       "    }\n",
       "\n",
       "    .dataframe tbody tr th {\n",
       "        vertical-align: top;\n",
       "    }\n",
       "\n",
       "    .dataframe thead th {\n",
       "        text-align: right;\n",
       "    }\n",
       "</style>\n",
       "<table border=\"1\" class=\"dataframe\">\n",
       "  <thead>\n",
       "    <tr style=\"text-align: right;\">\n",
       "      <th></th>\n",
       "      <th>words</th>\n",
       "      <th>count</th>\n",
       "    </tr>\n",
       "  </thead>\n",
       "  <tbody>\n",
       "    <tr>\n",
       "      <th>0</th>\n",
       "      <td>atus</td>\n",
       "      <td>1159</td>\n",
       "    </tr>\n",
       "    <tr>\n",
       "      <th>1</th>\n",
       "      <td>twitter</td>\n",
       "      <td>440</td>\n",
       "    </tr>\n",
       "    <tr>\n",
       "      <th>2</th>\n",
       "      <td>instagram</td>\n",
       "      <td>434</td>\n",
       "    </tr>\n",
       "    <tr>\n",
       "      <th>3</th>\n",
       "      <td>batus</td>\n",
       "      <td>433</td>\n",
       "    </tr>\n",
       "    <tr>\n",
       "      <th>4</th>\n",
       "      <td>u</td>\n",
       "      <td>405</td>\n",
       "    </tr>\n",
       "  </tbody>\n",
       "</table>\n",
       "</div>"
      ],
      "text/plain": [
       "       words  count\n",
       "0       atus   1159\n",
       "1    twitter    440\n",
       "2  instagram    434\n",
       "3      batus    433\n",
       "4          u    405"
      ]
     },
     "execution_count": 28,
     "metadata": {},
     "output_type": "execute_result"
    }
   ],
   "source": [
    "clean_tweets_ncw = pd.DataFrame(counts_nsw_nc.most_common(15),\n",
    "                             columns=['words', 'count'])\n",
    "clean_tweets_ncw.head()"
   ]
  },
  {
   "cell_type": "code",
   "execution_count": 29,
   "metadata": {
    "ExecuteTime": {
     "end_time": "2020-09-26T18:29:03.529958Z",
     "start_time": "2020-09-26T18:29:03.348444Z"
    }
   },
   "outputs": [
    {
     "data": {
      "image/png": "[encoded data removed]",
      "text/plain": [
       "<Figure size 576x576 with 1 Axes>"
      ]
     },
     "metadata": {},
     "output_type": "display_data"
    }
   ],
   "source": [
    "fig, ax = plt.subplots(figsize=(8, 8))\n",
    "\n",
    "# Plot horizontal bar graph\n",
    "clean_tweets_ncw.sort_values(by='count').plot.barh(x='words',\n",
    "                      y='count',\n",
    "                      ax=ax,\n",
    "                      color=\"purple\")\n",
    "\n",
    "ax.set_title(\"Common Words Found in Tweets (Without Stop or Collection Words)\")\n",
    "\n",
    "plt.show()\n"
   ]
  },
  {
   "cell_type": "code",
   "execution_count": 30,
   "metadata": {
    "ExecuteTime": {
     "end_time": "2020-09-26T18:29:03.550902Z",
     "start_time": "2020-09-26T18:29:03.530956Z"
    }
   },
   "outputs": [
    {
     "data": {
      "text/plain": [
       "('market', 'openingnnfbnfacebook')"
      ]
     },
     "execution_count": 30,
     "metadata": {},
     "output_type": "execute_result"
    }
   ],
   "source": [
    "# Create list of lists containing bigrams in tweets\n",
    "from nltk import bigrams\n",
    "terms_bigram = list(bigrams(final_tokens))\n",
    "\n",
    "# View bigrams for the first tweet\n",
    "terms_bigram[0]"
   ]
  },
  {
   "cell_type": "code",
   "execution_count": 31,
   "metadata": {
    "ExecuteTime": {
     "end_time": "2020-09-26T18:29:03.572842Z",
     "start_time": "2020-09-26T18:29:03.551899Z"
    }
   },
   "outputs": [
    {
     "data": {
      "text/plain": [
       "[(('atus', 'atus'), 278),\n",
       " (('social', 'medium'), 220),\n",
       " (('futur', 'futur'), 155),\n",
       " (('batus', 'atus'), 136),\n",
       " (('via', 'atus'), 103),\n",
       " (('twitter', 'instagram'), 101),\n",
       " (('check', 'websit'), 63),\n",
       " (('blinkedin', 'twitter'), 62),\n",
       " (('btwitter', 'instagram'), 60),\n",
       " (('socialmedia', 'pinterest'), 58),\n",
       " (('share', 'data'), 57),\n",
       " (('instagram', 'socialmedia'), 56),\n",
       " (('websit', 'top'), 52),\n",
       " (('fake', 'account'), 48),\n",
       " (('instagram', 'pinterest'), 47),\n",
       " (('quit', 'europ'), 45),\n",
       " (('for', 'inform'), 43),\n",
       " (('data', 'u'), 43),\n",
       " (('top', 'affili'), 41),\n",
       " (('may', 'quit'), 41)]"
      ]
     },
     "execution_count": 31,
     "metadata": {},
     "output_type": "execute_result"
    }
   ],
   "source": [
    "# Create counter of words in clean bigrams\n",
    "bigram_counts = collections.Counter(terms_bigram)\n",
    "\n",
    "bigram_counts.most_common(20)"
   ]
  },
  {
   "cell_type": "code",
   "execution_count": 32,
   "metadata": {
    "ExecuteTime": {
     "end_time": "2020-09-26T18:29:03.588800Z",
     "start_time": "2020-09-26T18:29:03.573840Z"
    },
    "scrolled": true
   },
   "outputs": [
    {
     "data": {
      "text/html": [
       "<div>\n",
       "<style scoped>\n",
       "    .dataframe tbody tr th:only-of-type {\n",
       "        vertical-align: middle;\n",
       "    }\n",
       "\n",
       "    .dataframe tbody tr th {\n",
       "        vertical-align: top;\n",
       "    }\n",
       "\n",
       "    .dataframe thead th {\n",
       "        text-align: right;\n",
       "    }\n",
       "</style>\n",
       "<table border=\"1\" class=\"dataframe\">\n",
       "  <thead>\n",
       "    <tr style=\"text-align: right;\">\n",
       "      <th></th>\n",
       "      <th>bigram</th>\n",
       "      <th>count</th>\n",
       "    </tr>\n",
       "  </thead>\n",
       "  <tbody>\n",
       "    <tr>\n",
       "      <th>0</th>\n",
       "      <td>(atus, atus)</td>\n",
       "      <td>278</td>\n",
       "    </tr>\n",
       "    <tr>\n",
       "      <th>1</th>\n",
       "      <td>(social, medium)</td>\n",
       "      <td>220</td>\n",
       "    </tr>\n",
       "    <tr>\n",
       "      <th>2</th>\n",
       "      <td>(futur, futur)</td>\n",
       "      <td>155</td>\n",
       "    </tr>\n",
       "    <tr>\n",
       "      <th>3</th>\n",
       "      <td>(batus, atus)</td>\n",
       "      <td>136</td>\n",
       "    </tr>\n",
       "    <tr>\n",
       "      <th>4</th>\n",
       "      <td>(via, atus)</td>\n",
       "      <td>103</td>\n",
       "    </tr>\n",
       "    <tr>\n",
       "      <th>5</th>\n",
       "      <td>(twitter, instagram)</td>\n",
       "      <td>101</td>\n",
       "    </tr>\n",
       "    <tr>\n",
       "      <th>6</th>\n",
       "      <td>(check, websit)</td>\n",
       "      <td>63</td>\n",
       "    </tr>\n",
       "    <tr>\n",
       "      <th>7</th>\n",
       "      <td>(blinkedin, twitter)</td>\n",
       "      <td>62</td>\n",
       "    </tr>\n",
       "    <tr>\n",
       "      <th>8</th>\n",
       "      <td>(btwitter, instagram)</td>\n",
       "      <td>60</td>\n",
       "    </tr>\n",
       "    <tr>\n",
       "      <th>9</th>\n",
       "      <td>(socialmedia, pinterest)</td>\n",
       "      <td>58</td>\n",
       "    </tr>\n",
       "    <tr>\n",
       "      <th>10</th>\n",
       "      <td>(share, data)</td>\n",
       "      <td>57</td>\n",
       "    </tr>\n",
       "    <tr>\n",
       "      <th>11</th>\n",
       "      <td>(instagram, socialmedia)</td>\n",
       "      <td>56</td>\n",
       "    </tr>\n",
       "    <tr>\n",
       "      <th>12</th>\n",
       "      <td>(websit, top)</td>\n",
       "      <td>52</td>\n",
       "    </tr>\n",
       "    <tr>\n",
       "      <th>13</th>\n",
       "      <td>(fake, account)</td>\n",
       "      <td>48</td>\n",
       "    </tr>\n",
       "    <tr>\n",
       "      <th>14</th>\n",
       "      <td>(instagram, pinterest)</td>\n",
       "      <td>47</td>\n",
       "    </tr>\n",
       "    <tr>\n",
       "      <th>15</th>\n",
       "      <td>(quit, europ)</td>\n",
       "      <td>45</td>\n",
       "    </tr>\n",
       "    <tr>\n",
       "      <th>16</th>\n",
       "      <td>(for, inform)</td>\n",
       "      <td>43</td>\n",
       "    </tr>\n",
       "    <tr>\n",
       "      <th>17</th>\n",
       "      <td>(data, u)</td>\n",
       "      <td>43</td>\n",
       "    </tr>\n",
       "    <tr>\n",
       "      <th>18</th>\n",
       "      <td>(top, affili)</td>\n",
       "      <td>41</td>\n",
       "    </tr>\n",
       "    <tr>\n",
       "      <th>19</th>\n",
       "      <td>(may, quit)</td>\n",
       "      <td>41</td>\n",
       "    </tr>\n",
       "  </tbody>\n",
       "</table>\n",
       "</div>"
      ],
      "text/plain": [
       "                      bigram  count\n",
       "0               (atus, atus)    278\n",
       "1           (social, medium)    220\n",
       "2             (futur, futur)    155\n",
       "3              (batus, atus)    136\n",
       "4                (via, atus)    103\n",
       "5       (twitter, instagram)    101\n",
       "6            (check, websit)     63\n",
       "7       (blinkedin, twitter)     62\n",
       "8      (btwitter, instagram)     60\n",
       "9   (socialmedia, pinterest)     58\n",
       "10             (share, data)     57\n",
       "11  (instagram, socialmedia)     56\n",
       "12             (websit, top)     52\n",
       "13           (fake, account)     48\n",
       "14    (instagram, pinterest)     47\n",
       "15             (quit, europ)     45\n",
       "16             (for, inform)     43\n",
       "17                 (data, u)     43\n",
       "18             (top, affili)     41\n",
       "19               (may, quit)     41"
      ]
     },
     "execution_count": 32,
     "metadata": {},
     "output_type": "execute_result"
    }
   ],
   "source": [
    "bigram_df = pd.DataFrame(bigram_counts.most_common(20),\n",
    "                             columns=['bigram', 'count'])\n",
    "\n",
    "bigram_df"
   ]
  },
  {
   "cell_type": "code",
   "execution_count": 33,
   "metadata": {
    "ExecuteTime": {
     "end_time": "2020-09-26T18:29:03.596781Z",
     "start_time": "2020-09-26T18:29:03.591793Z"
    }
   },
   "outputs": [],
   "source": [
    "# Create dictionary of bigrams and their counts\n",
    "d = bigram_df.set_index('bigram').T.to_dict('records')\n",
    "# Create network plot \n",
    "G = nx.Graph()"
   ]
  },
  {
   "cell_type": "code",
   "execution_count": 34,
   "metadata": {
    "ExecuteTime": {
     "end_time": "2020-09-26T18:29:03.775301Z",
     "start_time": "2020-09-26T18:29:03.597777Z"
    }
   },
   "outputs": [
    {
     "data": {
      "image/png": "[encoded data removed]",
      "text/plain": [
       "<Figure size 720x576 with 1 Axes>"
      ]
     },
     "metadata": {},
     "output_type": "display_data"
    }
   ],
   "source": [
    "# Create connections between nodes\n",
    "for k, v in d[0].items():\n",
    "    G.add_edge(k[0], k[1], weight=(v*10))\n",
    "\n",
    "G.add_node(\"red\", weight=100)\n",
    "fig, ax = plt.subplots(figsize=(10, 8))\n",
    "\n",
    "pos = nx.spring_layout(G, k=1)\n",
    "\n",
    "# Plot networks\n",
    "nx.draw_networkx(G, pos,\n",
    "                 font_size=16,\n",
    "                 width=3,\n",
    "                 edge_color='grey',\n",
    "                 node_color='purple',\n",
    "                 with_labels = False,\n",
    "                 ax=ax)\n",
    "# Create offset labels\n",
    "for key, value in pos.items():\n",
    "    x, y = value[0]+.135, value[1]+.045\n",
    "    ax.text(x, y,\n",
    "            s=key,\n",
    "            bbox=dict(facecolor='red', alpha=0.25),\n",
    "            horizontalalignment='center', fontsize=13)\n",
    "    \n",
    "plt.show()"
   ]
  },
  {
   "cell_type": "markdown",
   "metadata": {},
   "source": [
    "# Sentiment Ananlysis"
   ]
  },
  {
   "cell_type": "markdown",
   "metadata": {},
   "source": [
    "## Vader\n",
    "##### VADER (Valence Aware Dictionary and sEntiment Reasoner) is a lexicon and rule-based sentiment analysis tool that is specifically attuned to sentiments expressed in social media. VADER uses a combination of A sentiment lexicon is a list of lexical features (e.g., words) which are generally labelled according to their semantic orientation as either positive or negative."
   ]
  },
  {
   "cell_type": "code",
   "execution_count": 35,
   "metadata": {
    "ExecuteTime": {
     "end_time": "2020-09-26T18:29:03.798241Z",
     "start_time": "2020-09-26T18:29:03.776300Z"
    }
   },
   "outputs": [],
   "source": [
    "from vaderSentiment.vaderSentiment import SentimentIntensityAnalyzer\n",
    "analyser = SentimentIntensityAnalyzer()"
   ]
  },
  {
   "cell_type": "code",
   "execution_count": 36,
   "metadata": {
    "ExecuteTime": {
     "end_time": "2020-09-26T18:29:03.844158Z",
     "start_time": "2020-09-26T18:29:03.799237Z"
    }
   },
   "outputs": [],
   "source": [
    "tweets = pd.read_csv('result.txt', header = None, sep = '\\t')"
   ]
  },
  {
   "cell_type": "code",
   "execution_count": 37,
   "metadata": {
    "ExecuteTime": {
     "end_time": "2020-09-26T18:29:03.848106Z",
     "start_time": "2020-09-26T18:29:03.845116Z"
    }
   },
   "outputs": [],
   "source": [
    "tweets.rename({1:'Tweet'}, inplace = True, axis = 1)"
   ]
  },
  {
   "cell_type": "code",
   "execution_count": 38,
   "metadata": {
    "ExecuteTime": {
     "end_time": "2020-09-26T18:29:03.853099Z",
     "start_time": "2020-09-26T18:29:03.849105Z"
    }
   },
   "outputs": [],
   "source": [
    "tweets.drop(0, axis = 1, inplace = True)"
   ]
  },
  {
   "cell_type": "code",
   "execution_count": 39,
   "metadata": {
    "ExecuteTime": {
     "end_time": "2020-09-26T18:29:03.870048Z",
     "start_time": "2020-09-26T18:29:03.854090Z"
    }
   },
   "outputs": [],
   "source": [
    "tweets.dropna(inplace = True)"
   ]
  },
  {
   "cell_type": "code",
   "execution_count": 40,
   "metadata": {
    "ExecuteTime": {
     "end_time": "2020-09-26T18:29:06.194909Z",
     "start_time": "2020-09-26T18:29:03.871045Z"
    }
   },
   "outputs": [],
   "source": [
    "tweets['compound'] = tweets['Tweet'].apply(lambda x: analyser.polarity_scores(x)['compound'])"
   ]
  },
  {
   "cell_type": "code",
   "execution_count": 41,
   "metadata": {
    "ExecuteTime": {
     "end_time": "2020-09-26T18:29:06.204804Z",
     "start_time": "2020-09-26T18:29:06.195826Z"
    }
   },
   "outputs": [
    {
     "data": {
      "text/html": [
       "<div>\n",
       "<style scoped>\n",
       "    .dataframe tbody tr th:only-of-type {\n",
       "        vertical-align: middle;\n",
       "    }\n",
       "\n",
       "    .dataframe tbody tr th {\n",
       "        vertical-align: top;\n",
       "    }\n",
       "\n",
       "    .dataframe thead th {\n",
       "        text-align: right;\n",
       "    }\n",
       "</style>\n",
       "<table border=\"1\" class=\"dataframe\">\n",
       "  <thead>\n",
       "    <tr style=\"text-align: right;\">\n",
       "      <th></th>\n",
       "      <th>Tweet</th>\n",
       "      <th>compound</th>\n",
       "    </tr>\n",
       "  </thead>\n",
       "  <tbody>\n",
       "    <tr>\n",
       "      <th>0</th>\n",
       "      <td>facebook market open fb facebook</td>\n",
       "      <td>0.0000</td>\n",
       "    </tr>\n",
       "    <tr>\n",
       "      <th>1</th>\n",
       "      <td>how get endless lead facebook homebusi andgtandgt</td>\n",
       "      <td>0.0000</td>\n",
       "    </tr>\n",
       "    <tr>\n",
       "      <th>2</th>\n",
       "      <td>thi prompt start use twitter i like social med...</td>\n",
       "      <td>0.3612</td>\n",
       "    </tr>\n",
       "    <tr>\n",
       "      <th>3</th>\n",
       "      <td>rb launch global partner program to meet deman...</td>\n",
       "      <td>-0.1280</td>\n",
       "    </tr>\n",
       "    <tr>\n",
       "      <th>4</th>\n",
       "      <td>facebook trollfarm botarmi trumprussia bot lik...</td>\n",
       "      <td>0.8481</td>\n",
       "    </tr>\n",
       "    <tr>\n",
       "      <th>...</th>\n",
       "      <td>...</td>\n",
       "      <td>...</td>\n",
       "    </tr>\n",
       "    <tr>\n",
       "      <th>47948</th>\n",
       "      <td>ball_caps_baddict ad film facebook more togeth...</td>\n",
       "      <td>0.0000</td>\n",
       "    </tr>\n",
       "    <tr>\n",
       "      <th>47949</th>\n",
       "      <td>b key socialmedia market success facebook exec...</td>\n",
       "      <td>0.5719</td>\n",
       "    </tr>\n",
       "    <tr>\n",
       "      <th>47950</th>\n",
       "      <td>batus facebook market place</td>\n",
       "      <td>0.0000</td>\n",
       "    </tr>\n",
       "    <tr>\n",
       "      <th>47951</th>\n",
       "      <td>bif havenxcxt alreadi throw facebook page like...</td>\n",
       "      <td>0.3612</td>\n",
       "    </tr>\n",
       "    <tr>\n",
       "      <th>47952</th>\n",
       "      <td>bhow download kinemast without watermark nkine...</td>\n",
       "      <td>0.0000</td>\n",
       "    </tr>\n",
       "  </tbody>\n",
       "</table>\n",
       "<p>47942 rows × 2 columns</p>\n",
       "</div>"
      ],
      "text/plain": [
       "                                                   Tweet  compound\n",
       "0                       facebook market open fb facebook    0.0000\n",
       "1      how get endless lead facebook homebusi andgtandgt    0.0000\n",
       "2      thi prompt start use twitter i like social med...    0.3612\n",
       "3      rb launch global partner program to meet deman...   -0.1280\n",
       "4      facebook trollfarm botarmi trumprussia bot lik...    0.8481\n",
       "...                                                  ...       ...\n",
       "47948  ball_caps_baddict ad film facebook more togeth...    0.0000\n",
       "47949  b key socialmedia market success facebook exec...    0.5719\n",
       "47950                        batus facebook market place    0.0000\n",
       "47951  bif havenxcxt alreadi throw facebook page like...    0.3612\n",
       "47952  bhow download kinemast without watermark nkine...    0.0000\n",
       "\n",
       "[47942 rows x 2 columns]"
      ]
     },
     "execution_count": 41,
     "metadata": {},
     "output_type": "execute_result"
    }
   ],
   "source": [
    "tweets"
   ]
  },
  {
   "cell_type": "code",
   "execution_count": 42,
   "metadata": {
    "ExecuteTime": {
     "end_time": "2020-09-26T18:29:06.213791Z",
     "start_time": "2020-09-26T18:29:06.207799Z"
    }
   },
   "outputs": [
    {
     "data": {
      "text/plain": [
       "0.05834396562512552"
      ]
     },
     "execution_count": 42,
     "metadata": {},
     "output_type": "execute_result"
    }
   ],
   "source": [
    "tweets['compound'].mean()"
   ]
  },
  {
   "cell_type": "code",
   "execution_count": 43,
   "metadata": {
    "ExecuteTime": {
     "end_time": "2020-09-26T18:29:06.360384Z",
     "start_time": "2020-09-26T18:29:06.215771Z"
    }
   },
   "outputs": [
    {
     "data": {
      "image/png": "[encoded data removed]",
      "text/plain": [
       "<Figure size 576x432 with 1 Axes>"
      ]
     },
     "metadata": {},
     "output_type": "display_data"
    }
   ],
   "source": [
    "fig, ax = plt.subplots(figsize=(8, 6))\n",
    "\n",
    "# Plot histogram of the polarity values\n",
    "tweets.hist(bins=[-1, -0.75, -0.5, -0.25, 0.25, 0.5, 0.75, 1],\n",
    "             ax=ax,\n",
    "             color=\"purple\")\n",
    "\n",
    "plt.title(\"Sentiments from Tweets on COVID-19\")\n",
    "plt.show()"
   ]
  },
  {
   "cell_type": "code",
   "execution_count": 44,
   "metadata": {
    "ExecuteTime": {
     "end_time": "2020-09-26T18:29:06.504998Z",
     "start_time": "2020-09-26T18:29:06.361382Z"
    }
   },
   "outputs": [
    {
     "data": {
      "image/png": "[encoded data removed]",
      "text/plain": [
       "<Figure size 576x432 with 1 Axes>"
      ]
     },
     "metadata": {},
     "output_type": "display_data"
    }
   ],
   "source": [
    "# Remove polarity values equal to zero\n",
    "tweets = tweets[tweets.compound != 0]\n",
    "fig, ax = plt.subplots(figsize=(8, 6))\n",
    "\n",
    "# Plot histogram with break at zero\n",
    "tweets.hist(bins=[-1, -0.75, -0.5, -0.25, 0.0, 0.25, 0.5, 0.75, 1],\n",
    "             ax=ax,\n",
    "             color=\"purple\")\n",
    "\n",
    "plt.title(\"Sentiments from Tweets on COVID-19\")\n",
    "plt.show()"
   ]
  },
  {
   "cell_type": "markdown",
   "metadata": {},
   "source": [
    "### Results"
   ]
  },
  {
   "cell_type": "markdown",
   "metadata": {},
   "source": [
    "Here the total polarity of all the tweets is 0.06 which is neither too positive nor too negative.<br>\n",
    "Further, we can find out what percentage of positive tweets were there and what percentage of negative tweets were there.<br>\n",
    "It will help us understand for a particular time frame what type of tweets are more."
   ]
  },
  {
   "cell_type": "code",
   "execution_count": 45,
   "metadata": {
    "ExecuteTime": {
     "end_time": "2020-09-26T18:29:06.508988Z",
     "start_time": "2020-09-26T18:29:06.505996Z"
    }
   },
   "outputs": [],
   "source": [
    "import numpy as np"
   ]
  },
  {
   "cell_type": "code",
   "execution_count": 46,
   "metadata": {
    "ExecuteTime": {
     "end_time": "2020-09-26T18:29:06.519964Z",
     "start_time": "2020-09-26T18:29:06.509985Z"
    }
   },
   "outputs": [
    {
     "name": "stderr",
     "output_type": "stream",
     "text": [
      "C:\\Users\\yashc\\AppData\\Local\\Continuum\\anaconda3\\lib\\site-packages\\ipykernel_launcher.py:1: SettingWithCopyWarning: \n",
      "A value is trying to be set on a copy of a slice from a DataFrame.\n",
      "Try using .loc[row_indexer,col_indexer] = value instead\n",
      "\n",
      "See the caveats in the documentation: https://pandas.pydata.org/pandas-docs/stable/user_guide/indexing.html#returning-a-view-versus-a-copy\n",
      "  \"\"\"Entry point for launching an IPython kernel.\n"
     ]
    }
   ],
   "source": [
    "tweets['Positive'] = np.where(tweets['compound'] >= 0.10, 1, 0)"
   ]
  },
  {
   "cell_type": "code",
   "execution_count": 47,
   "metadata": {
    "ExecuteTime": {
     "end_time": "2020-09-26T18:29:06.525954Z",
     "start_time": "2020-09-26T18:29:06.521952Z"
    }
   },
   "outputs": [
    {
     "data": {
      "text/plain": [
       "0.582190996219787"
      ]
     },
     "execution_count": 47,
     "metadata": {},
     "output_type": "execute_result"
    }
   ],
   "source": [
    "tweets['Positive'].sum()/len(tweets)"
   ]
  },
  {
   "cell_type": "markdown",
   "metadata": {},
   "source": [
    "There are total 59.01% of positive tweets in the data for #facebook"
   ]
  },
  {
   "cell_type": "code",
   "execution_count": 48,
   "metadata": {
    "ExecuteTime": {
     "end_time": "2020-09-26T18:29:06.532923Z",
     "start_time": "2020-09-26T18:29:06.527942Z"
    }
   },
   "outputs": [
    {
     "name": "stderr",
     "output_type": "stream",
     "text": [
      "C:\\Users\\yashc\\AppData\\Local\\Continuum\\anaconda3\\lib\\site-packages\\ipykernel_launcher.py:1: SettingWithCopyWarning: \n",
      "A value is trying to be set on a copy of a slice from a DataFrame.\n",
      "Try using .loc[row_indexer,col_indexer] = value instead\n",
      "\n",
      "See the caveats in the documentation: https://pandas.pydata.org/pandas-docs/stable/user_guide/indexing.html#returning-a-view-versus-a-copy\n",
      "  \"\"\"Entry point for launching an IPython kernel.\n"
     ]
    }
   ],
   "source": [
    "tweets['Negative'] = np.where(tweets['compound'] <= -0.10, 1, 0)"
   ]
  },
  {
   "cell_type": "code",
   "execution_count": 49,
   "metadata": {
    "ExecuteTime": {
     "end_time": "2020-09-26T18:29:06.538907Z",
     "start_time": "2020-09-26T18:29:06.533921Z"
    }
   },
   "outputs": [
    {
     "data": {
      "text/plain": [
       "0.3645805490854939"
      ]
     },
     "execution_count": 49,
     "metadata": {},
     "output_type": "execute_result"
    }
   ],
   "source": [
    "tweets['Negative'].sum()/len(tweets)"
   ]
  },
  {
   "cell_type": "markdown",
   "metadata": {},
   "source": [
    "There are a total of 35.6% of the negative tweets in the data for # Facebook."
   ]
  },
  {
   "cell_type": "code",
   "execution_count": null,
   "metadata": {},
   "outputs": [],
   "source": []
  },
  {
   "cell_type": "code",
   "execution_count": null,
   "metadata": {},
   "outputs": [],
   "source": []
  },
  {
   "cell_type": "code",
   "execution_count": null,
   "metadata": {},
   "outputs": [],
   "source": []
  },
  {
   "cell_type": "code",
   "execution_count": null,
   "metadata": {},
   "outputs": [],
   "source": []
  },
  {
   "cell_type": "code",
   "execution_count": null,
   "metadata": {},
   "outputs": [],
   "source": []
  },
  {
   "cell_type": "code",
   "execution_count": null,
   "metadata": {},
   "outputs": [],
   "source": []
  },
  {
   "cell_type": "code",
   "execution_count": null,
   "metadata": {},
   "outputs": [],
   "source": []
  },
  {
   "cell_type": "code",
   "execution_count": null,
   "metadata": {},
   "outputs": [],
   "source": []
  },
  {
   "cell_type": "code",
   "execution_count": null,
   "metadata": {},
   "outputs": [],
   "source": []
  },
  {
   "cell_type": "code",
   "execution_count": null,
   "metadata": {},
   "outputs": [],
   "source": []
  },
  {
   "cell_type": "code",
   "execution_count": null,
   "metadata": {},
   "outputs": [],
   "source": []
  }
 ],
 "metadata": {
  "kernelspec": {
   "display_name": "Python 3",
   "language": "python",
   "name": "python3"
  },
  "language_info": {
   "codemirror_mode": {
    "name": "ipython",
    "version": 3
   },
   "file_extension": ".py",
   "mimetype": "text/x-python",
   "name": "python",
   "nbconvert_exporter": "python",
   "pygments_lexer": "ipython3",
   "version": "3.7.3"
  }
 },
 "nbformat": 4,
 "nbformat_minor": 2
}
