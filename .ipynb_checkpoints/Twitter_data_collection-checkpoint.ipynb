{
 "cells": [
  {
   "cell_type": "markdown",
   "metadata": {},
   "source": [
    "# Twitter Real Time Data Collection"
   ]
  },
  {
   "cell_type": "markdown",
   "metadata": {},
   "source": [
    "#### Here, our main objective is to collect real time twitter data and store it on AWS S3 Bucket."
   ]
  },
  {
   "cell_type": "code",
   "execution_count": 1,
   "metadata": {
    "ExecuteTime": {
     "end_time": "2020-09-24T12:16:02.128543Z",
     "start_time": "2020-09-24T12:16:01.646826Z"
    }
   },
   "outputs": [],
   "source": [
    "#importing necessary liberaries. \n",
    "import tweepy as tw    \n",
    "import pandas as pd\n",
    "import os\n",
    "import boto3         \n",
    "import botocore\n",
    "import pickle\n",
    "import credentials as cc"
   ]
  },
  {
   "cell_type": "code",
   "execution_count": 16,
   "metadata": {
    "ExecuteTime": {
     "end_time": "2020-09-24T12:20:20.154310Z",
     "start_time": "2020-09-24T12:20:20.151318Z"
    }
   },
   "outputs": [],
   "source": [
    "#Connecting with twitter API\n",
    "auth = tw.OAuthHandler(cc.consumer_key, cc.consumer_secret)\n",
    "auth.set_access_token(cc.access_token, cc.access_token_secret)\n",
    "api = tw.API(auth, wait_on_rate_limit=True)"
   ]
  },
  {
   "cell_type": "code",
   "execution_count": 17,
   "metadata": {
    "ExecuteTime": {
     "end_time": "2020-09-24T12:20:20.937495Z",
     "start_time": "2020-09-24T12:20:20.934504Z"
    }
   },
   "outputs": [],
   "source": [
    "#the item which we have to search\n",
    "search_words = \"#facebook\"\n",
    "date_since = \"2020-09-06\""
   ]
  },
  {
   "cell_type": "code",
   "execution_count": 18,
   "metadata": {
    "ExecuteTime": {
     "end_time": "2020-09-24T12:20:21.832714Z",
     "start_time": "2020-09-24T12:20:21.829721Z"
    }
   },
   "outputs": [],
   "source": [
    "#keep or remove re-tweets\n",
    "new_search = search_words + \" -filter:retweets\""
   ]
  },
  {
   "cell_type": "code",
   "execution_count": 19,
   "metadata": {
    "ExecuteTime": {
     "end_time": "2020-09-24T12:20:25.635779Z",
     "start_time": "2020-09-24T12:20:22.708342Z"
    }
   },
   "outputs": [
    {
     "data": {
      "text/plain": [
       "[['LoettaPaulsen', 'Seattle, WA'],\n",
       " ['ThatSmileyLady', 'ATLBGATLNYATL?!'],\n",
       " ['NcsVentures', 'Atlanta, GA'],\n",
       " ['PaxAutomica', ''],\n",
       " ['CashYonny', ''],\n",
       " ['nomanrttc', 'Rajshahi, Bangladesh'],\n",
       " ['5Hoquat', 'Earth2'],\n",
       " ['OhmsLaw78', 'Iowa, USA'],\n",
       " ['AdilNadeem347', 'Lahore'],\n",
       " ['Tarun_Strings', ''],\n",
       " ['vima_marketing', 'Barcelona, Spain'],\n",
       " ['AdilNadeem347', 'Lahore'],\n",
       " ['ElsicaStar', 'England, United Kingdom'],\n",
       " ['bmurphypointman', 'Bay Area, CA'],\n",
       " ['MailerLite', 'Global']]"
      ]
     },
     "execution_count": 19,
     "metadata": {},
     "output_type": "execute_result"
    }
   ],
   "source": [
    "#Who is Tweeting\n",
    "tweets = tw.Cursor(api.search, \n",
    "                           q=new_search,\n",
    "                           lang=\"en\",\n",
    "                           since=date_since).items(15)\n",
    "\n",
    "users_locs = [[tweet.user.screen_name, tweet.user.location] for tweet in tweets]\n",
    "users_locs"
   ]
  },
  {
   "cell_type": "code",
   "execution_count": 20,
   "metadata": {
    "ExecuteTime": {
     "end_time": "2020-09-24T12:20:27.724313Z",
     "start_time": "2020-09-24T12:20:27.721314Z"
    }
   },
   "outputs": [],
   "source": [
    "#getting data from twitter and saving it in a list\n",
    "tweets = tw.Cursor(api.search,\n",
    "                       q=new_search,\n",
    "                       lang=\"en\").items(1000)"
   ]
  },
  {
   "cell_type": "code",
   "execution_count": 21,
   "metadata": {
    "ExecuteTime": {
     "end_time": "2020-09-24T12:22:41.831196Z",
     "start_time": "2020-09-24T12:20:33.291068Z"
    }
   },
   "outputs": [],
   "source": [
    "all_tweets = [tweet.text for tweet in tweets]"
   ]
  },
  {
   "cell_type": "code",
   "execution_count": 22,
   "metadata": {
    "ExecuteTime": {
     "end_time": "2020-09-24T12:23:15.857181Z",
     "start_time": "2020-09-24T12:23:15.848203Z"
    }
   },
   "outputs": [],
   "source": [
    "# Create an S3 client\n",
    "S3 = boto3.client('s3')\n",
    "BUCKET_NAME = 'twitter-analytics-bot'"
   ]
  },
  {
   "cell_type": "code",
   "execution_count": 23,
   "metadata": {
    "ExecuteTime": {
     "end_time": "2020-09-24T12:23:17.922894Z",
     "start_time": "2020-09-24T12:23:17.453091Z"
    }
   },
   "outputs": [
    {
     "data": {
      "text/plain": [
       "{'ResponseMetadata': {'RequestId': '1E39B01F9782A0F6',\n",
       "  'HostId': 'giz0VGgiUhuaKPx4hUuCNUNeL09Pd1iftghxp+dN5Kthc2JmA2A0xmqsahgzmh6S3AXG2HTuc9M=',\n",
       "  'HTTPStatusCode': 200,\n",
       "  'HTTPHeaders': {'x-amz-id-2': 'giz0VGgiUhuaKPx4hUuCNUNeL09Pd1iftghxp+dN5Kthc2JmA2A0xmqsahgzmh6S3AXG2HTuc9M=',\n",
       "   'x-amz-request-id': '1E39B01F9782A0F6',\n",
       "   'date': 'Thu, 24 Sep 2020 12:23:17 GMT',\n",
       "   'etag': '\"f2726648ef389f6c3a7875ee061354c9\"',\n",
       "   'content-length': '0',\n",
       "   'server': 'AmazonS3'},\n",
       "  'RetryAttempts': 1},\n",
       " 'ETag': '\"f2726648ef389f6c3a7875ee061354c9\"'}"
      ]
     },
     "execution_count": 23,
     "metadata": {},
     "output_type": "execute_result"
    }
   ],
   "source": [
    "#storing the list in s3 bucket\n",
    "#Serialize the object \n",
    "serializedListObject = pickle.dumps(all_tweets)\n",
    "#Write to Bucket named BUCKET_NAME and \n",
    "#Store the list using key 'mylist001'\n",
    "S3.put_object(Bucket=BUCKET_NAME,Key='myList001',Body=serializedListObject)"
   ]
  },
  {
   "cell_type": "code",
   "execution_count": 24,
   "metadata": {
    "ExecuteTime": {
     "end_time": "2020-09-24T12:33:14.748146Z",
     "start_time": "2020-09-24T12:33:14.370529Z"
    }
   },
   "outputs": [],
   "source": [
    "# #Retrieving the object stored in s3 bucket\n",
    "# #Read the object stored in key 'myList001'\n",
    "# object = S3.get_object(Bucket=BUCKET_NAME,Key='myList001')\n",
    "# serializedObject = object['Body'].read()\n",
    "# #Deserialize the retrieved object\n",
    "# myList = pickle.loads(serializedObject)"
   ]
  },
  {
   "cell_type": "code",
   "execution_count": 25,
   "metadata": {
    "ExecuteTime": {
     "end_time": "2020-09-24T12:33:15.914741Z",
     "start_time": "2020-09-24T12:33:15.907755Z"
    }
   },
   "outputs": [],
   "source": [
    "# #getting data from twitter again and saving it in a list\n",
    "# tweets = tw.Cursor(api.search,\n",
    "#                        q=new_search,\n",
    "#                        lang=\"en\").items(10000)"
   ]
  },
  {
   "cell_type": "code",
   "execution_count": 26,
   "metadata": {
    "ExecuteTime": {
     "end_time": "2020-09-24T12:53:07.685120Z",
     "start_time": "2020-09-24T12:33:17.609441Z"
    }
   },
   "outputs": [],
   "source": [
    "# all_tweets_new = [tweet.text for tweet in tweets]"
   ]
  },
  {
   "cell_type": "code",
   "execution_count": 27,
   "metadata": {
    "ExecuteTime": {
     "end_time": "2020-09-24T12:53:52.815112Z",
     "start_time": "2020-09-24T12:53:52.810126Z"
    }
   },
   "outputs": [],
   "source": [
    "# #appending the new tweets to the previous tweets\n",
    "# for i in all_tweets_new:\n",
    "#     myList.append(i)"
   ]
  },
  {
   "cell_type": "code",
   "execution_count": 28,
   "metadata": {
    "ExecuteTime": {
     "end_time": "2020-09-24T12:53:55.519948Z",
     "start_time": "2020-09-24T12:53:54.806535Z"
    }
   },
   "outputs": [
    {
     "data": {
      "text/plain": [
       "{'ResponseMetadata': {'RequestId': '1QBM3J4QCNCWDY7P',\n",
       "  'HostId': 'JoG5E2MpnOx9JQgm/ggFPfN3G4vxm9qQgYyb6Q7ILWUYoGy8ZwjgpxPE3bhgXPZ++qPR4DvsymY=',\n",
       "  'HTTPStatusCode': 200,\n",
       "  'HTTPHeaders': {'x-amz-id-2': 'JoG5E2MpnOx9JQgm/ggFPfN3G4vxm9qQgYyb6Q7ILWUYoGy8ZwjgpxPE3bhgXPZ++qPR4DvsymY=',\n",
       "   'x-amz-request-id': '1QBM3J4QCNCWDY7P',\n",
       "   'date': 'Thu, 24 Sep 2020 12:53:55 GMT',\n",
       "   'etag': '\"fede37ac528d377b238491e37c401f74\"',\n",
       "   'content-length': '0',\n",
       "   'server': 'AmazonS3'},\n",
       "  'RetryAttempts': 0},\n",
       " 'ETag': '\"fede37ac528d377b238491e37c401f74\"'}"
      ]
     },
     "execution_count": 28,
     "metadata": {},
     "output_type": "execute_result"
    }
   ],
   "source": [
    "# #storing the list in s3 bucket\n",
    "# #Serialize the object \n",
    "# serializedListObject = pickle.dumps(myList)\n",
    "# #Write to Bucket named BUCKET_NAME and \n",
    "# #Store the list using key 'mylist001'\n",
    "# S3.put_object(Bucket=BUCKET_NAME,Key='myList001',Body=serializedListObject)"
   ]
  }
 ],
 "metadata": {
  "kernelspec": {
   "display_name": "Python 3",
   "language": "python",
   "name": "python3"
  },
  "language_info": {
   "codemirror_mode": {
    "name": "ipython",
    "version": 3
   },
   "file_extension": ".py",
   "mimetype": "text/x-python",
   "name": "python",
   "nbconvert_exporter": "python",
   "pygments_lexer": "ipython3",
   "version": "3.7.3"
  }
 },
 "nbformat": 4,
 "nbformat_minor": 2
}
